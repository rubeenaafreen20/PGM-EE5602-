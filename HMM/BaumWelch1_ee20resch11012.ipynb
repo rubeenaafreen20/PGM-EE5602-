{
  "nbformat": 4,
  "nbformat_minor": 0,
  "metadata": {
    "colab": {
      "name": "BaumWelch1.ipynb",
      "provenance": [],
      "collapsed_sections": []
    },
    "kernelspec": {
      "name": "python3",
      "display_name": "Python 3"
    }
  },
  "cells": [
    {
      "cell_type": "code",
      "metadata": {
        "colab": {
          "base_uri": "https://localhost:8080/"
        },
        "id": "p7iQZb4WGV9J",
        "outputId": "13a9afbd-7c75-446e-bb4a-ab9b8648b35f"
      },
      "source": [
        "%pip install kapre==0.1.7\n",
        "%pip install soundfile\n",
        "%pip install PyPrind"
      ],
      "execution_count": null,
      "outputs": [
        {
          "output_type": "stream",
          "text": [
            "Collecting kapre==0.1.7\n",
            "  Downloading https://files.pythonhosted.org/packages/76/c0/0fa10cd05a8368d5bd5381a4854b8f392cba924c8a5f1a9d8804c6d2376c/kapre-0.1.7.tar.gz\n",
            "Requirement already satisfied: numpy>=1.8.0 in /usr/local/lib/python3.6/dist-packages (from kapre==0.1.7) (1.18.5)\n",
            "Requirement already satisfied: librosa>=0.5 in /usr/local/lib/python3.6/dist-packages (from kapre==0.1.7) (0.6.3)\n",
            "Requirement already satisfied: tensorflow>=1.15 in /usr/local/lib/python3.6/dist-packages (from kapre==0.1.7) (2.3.0)\n",
            "Requirement already satisfied: joblib>=0.12 in /usr/local/lib/python3.6/dist-packages (from librosa>=0.5->kapre==0.1.7) (0.17.0)\n",
            "Requirement already satisfied: decorator>=3.0.0 in /usr/local/lib/python3.6/dist-packages (from librosa>=0.5->kapre==0.1.7) (4.4.2)\n",
            "Requirement already satisfied: scikit-learn!=0.19.0,>=0.14.0 in /usr/local/lib/python3.6/dist-packages (from librosa>=0.5->kapre==0.1.7) (0.22.2.post1)\n",
            "Requirement already satisfied: six>=1.3 in /usr/local/lib/python3.6/dist-packages (from librosa>=0.5->kapre==0.1.7) (1.15.0)\n",
            "Requirement already satisfied: scipy>=1.0.0 in /usr/local/lib/python3.6/dist-packages (from librosa>=0.5->kapre==0.1.7) (1.4.1)\n",
            "Requirement already satisfied: resampy>=0.2.0 in /usr/local/lib/python3.6/dist-packages (from librosa>=0.5->kapre==0.1.7) (0.2.2)\n",
            "Requirement already satisfied: numba>=0.38.0 in /usr/local/lib/python3.6/dist-packages (from librosa>=0.5->kapre==0.1.7) (0.48.0)\n",
            "Requirement already satisfied: audioread>=2.0.0 in /usr/local/lib/python3.6/dist-packages (from librosa>=0.5->kapre==0.1.7) (2.1.9)\n",
            "Requirement already satisfied: protobuf>=3.9.2 in /usr/local/lib/python3.6/dist-packages (from tensorflow>=1.15->kapre==0.1.7) (3.12.4)\n",
            "Requirement already satisfied: astunparse==1.6.3 in /usr/local/lib/python3.6/dist-packages (from tensorflow>=1.15->kapre==0.1.7) (1.6.3)\n",
            "Requirement already satisfied: tensorboard<3,>=2.3.0 in /usr/local/lib/python3.6/dist-packages (from tensorflow>=1.15->kapre==0.1.7) (2.3.0)\n",
            "Requirement already satisfied: absl-py>=0.7.0 in /usr/local/lib/python3.6/dist-packages (from tensorflow>=1.15->kapre==0.1.7) (0.10.0)\n",
            "Requirement already satisfied: termcolor>=1.1.0 in /usr/local/lib/python3.6/dist-packages (from tensorflow>=1.15->kapre==0.1.7) (1.1.0)\n",
            "Requirement already satisfied: tensorflow-estimator<2.4.0,>=2.3.0 in /usr/local/lib/python3.6/dist-packages (from tensorflow>=1.15->kapre==0.1.7) (2.3.0)\n",
            "Requirement already satisfied: wrapt>=1.11.1 in /usr/local/lib/python3.6/dist-packages (from tensorflow>=1.15->kapre==0.1.7) (1.12.1)\n",
            "Requirement already satisfied: wheel>=0.26 in /usr/local/lib/python3.6/dist-packages (from tensorflow>=1.15->kapre==0.1.7) (0.35.1)\n",
            "Requirement already satisfied: google-pasta>=0.1.8 in /usr/local/lib/python3.6/dist-packages (from tensorflow>=1.15->kapre==0.1.7) (0.2.0)\n",
            "Requirement already satisfied: opt-einsum>=2.3.2 in /usr/local/lib/python3.6/dist-packages (from tensorflow>=1.15->kapre==0.1.7) (3.3.0)\n",
            "Requirement already satisfied: keras-preprocessing<1.2,>=1.1.1 in /usr/local/lib/python3.6/dist-packages (from tensorflow>=1.15->kapre==0.1.7) (1.1.2)\n",
            "Requirement already satisfied: grpcio>=1.8.6 in /usr/local/lib/python3.6/dist-packages (from tensorflow>=1.15->kapre==0.1.7) (1.33.2)\n",
            "Requirement already satisfied: h5py<2.11.0,>=2.10.0 in /usr/local/lib/python3.6/dist-packages (from tensorflow>=1.15->kapre==0.1.7) (2.10.0)\n",
            "Requirement already satisfied: gast==0.3.3 in /usr/local/lib/python3.6/dist-packages (from tensorflow>=1.15->kapre==0.1.7) (0.3.3)\n",
            "Requirement already satisfied: setuptools in /usr/local/lib/python3.6/dist-packages (from numba>=0.38.0->librosa>=0.5->kapre==0.1.7) (50.3.2)\n",
            "Requirement already satisfied: llvmlite<0.32.0,>=0.31.0dev0 in /usr/local/lib/python3.6/dist-packages (from numba>=0.38.0->librosa>=0.5->kapre==0.1.7) (0.31.0)\n",
            "Requirement already satisfied: markdown>=2.6.8 in /usr/local/lib/python3.6/dist-packages (from tensorboard<3,>=2.3.0->tensorflow>=1.15->kapre==0.1.7) (3.3.3)\n",
            "Requirement already satisfied: google-auth<2,>=1.6.3 in /usr/local/lib/python3.6/dist-packages (from tensorboard<3,>=2.3.0->tensorflow>=1.15->kapre==0.1.7) (1.17.2)\n",
            "Requirement already satisfied: werkzeug>=0.11.15 in /usr/local/lib/python3.6/dist-packages (from tensorboard<3,>=2.3.0->tensorflow>=1.15->kapre==0.1.7) (1.0.1)\n",
            "Requirement already satisfied: google-auth-oauthlib<0.5,>=0.4.1 in /usr/local/lib/python3.6/dist-packages (from tensorboard<3,>=2.3.0->tensorflow>=1.15->kapre==0.1.7) (0.4.2)\n",
            "Requirement already satisfied: tensorboard-plugin-wit>=1.6.0 in /usr/local/lib/python3.6/dist-packages (from tensorboard<3,>=2.3.0->tensorflow>=1.15->kapre==0.1.7) (1.7.0)\n",
            "Requirement already satisfied: requests<3,>=2.21.0 in /usr/local/lib/python3.6/dist-packages (from tensorboard<3,>=2.3.0->tensorflow>=1.15->kapre==0.1.7) (2.23.0)\n",
            "Requirement already satisfied: importlib-metadata; python_version < \"3.8\" in /usr/local/lib/python3.6/dist-packages (from markdown>=2.6.8->tensorboard<3,>=2.3.0->tensorflow>=1.15->kapre==0.1.7) (2.0.0)\n",
            "Requirement already satisfied: rsa<5,>=3.1.4; python_version >= \"3\" in /usr/local/lib/python3.6/dist-packages (from google-auth<2,>=1.6.3->tensorboard<3,>=2.3.0->tensorflow>=1.15->kapre==0.1.7) (4.6)\n",
            "Requirement already satisfied: cachetools<5.0,>=2.0.0 in /usr/local/lib/python3.6/dist-packages (from google-auth<2,>=1.6.3->tensorboard<3,>=2.3.0->tensorflow>=1.15->kapre==0.1.7) (4.1.1)\n",
            "Requirement already satisfied: pyasn1-modules>=0.2.1 in /usr/local/lib/python3.6/dist-packages (from google-auth<2,>=1.6.3->tensorboard<3,>=2.3.0->tensorflow>=1.15->kapre==0.1.7) (0.2.8)\n",
            "Requirement already satisfied: requests-oauthlib>=0.7.0 in /usr/local/lib/python3.6/dist-packages (from google-auth-oauthlib<0.5,>=0.4.1->tensorboard<3,>=2.3.0->tensorflow>=1.15->kapre==0.1.7) (1.3.0)\n",
            "Requirement already satisfied: idna<3,>=2.5 in /usr/local/lib/python3.6/dist-packages (from requests<3,>=2.21.0->tensorboard<3,>=2.3.0->tensorflow>=1.15->kapre==0.1.7) (2.10)\n",
            "Requirement already satisfied: certifi>=2017.4.17 in /usr/local/lib/python3.6/dist-packages (from requests<3,>=2.21.0->tensorboard<3,>=2.3.0->tensorflow>=1.15->kapre==0.1.7) (2020.11.8)\n",
            "Requirement already satisfied: urllib3!=1.25.0,!=1.25.1,<1.26,>=1.21.1 in /usr/local/lib/python3.6/dist-packages (from requests<3,>=2.21.0->tensorboard<3,>=2.3.0->tensorflow>=1.15->kapre==0.1.7) (1.24.3)\n",
            "Requirement already satisfied: chardet<4,>=3.0.2 in /usr/local/lib/python3.6/dist-packages (from requests<3,>=2.21.0->tensorboard<3,>=2.3.0->tensorflow>=1.15->kapre==0.1.7) (3.0.4)\n",
            "Requirement already satisfied: zipp>=0.5 in /usr/local/lib/python3.6/dist-packages (from importlib-metadata; python_version < \"3.8\"->markdown>=2.6.8->tensorboard<3,>=2.3.0->tensorflow>=1.15->kapre==0.1.7) (3.4.0)\n",
            "Requirement already satisfied: pyasn1>=0.1.3 in /usr/local/lib/python3.6/dist-packages (from rsa<5,>=3.1.4; python_version >= \"3\"->google-auth<2,>=1.6.3->tensorboard<3,>=2.3.0->tensorflow>=1.15->kapre==0.1.7) (0.4.8)\n",
            "Requirement already satisfied: oauthlib>=3.0.0 in /usr/local/lib/python3.6/dist-packages (from requests-oauthlib>=0.7.0->google-auth-oauthlib<0.5,>=0.4.1->tensorboard<3,>=2.3.0->tensorflow>=1.15->kapre==0.1.7) (3.1.0)\n",
            "Building wheels for collected packages: kapre\n",
            "  Building wheel for kapre (setup.py) ... \u001b[?25l\u001b[?25hdone\n",
            "  Created wheel for kapre: filename=kapre-0.1.7-cp36-none-any.whl size=11663 sha256=9d5f663319470faa3975e7dd9de626dcbc43c8dd48cd798403ba74fa8334003c\n",
            "  Stored in directory: /root/.cache/pip/wheels/80/b0/36/f8ef462364784fcb1b7782e73ec59821162318ec28556516b6\n",
            "Successfully built kapre\n",
            "Installing collected packages: kapre\n",
            "  Found existing installation: kapre 0.1.3.1\n",
            "    Uninstalling kapre-0.1.3.1:\n",
            "      Successfully uninstalled kapre-0.1.3.1\n",
            "Successfully installed kapre-0.1.7\n",
            "Collecting soundfile\n",
            "  Downloading https://files.pythonhosted.org/packages/eb/f2/3cbbbf3b96fb9fa91582c438b574cff3f45b29c772f94c400e2c99ef5db9/SoundFile-0.10.3.post1-py2.py3-none-any.whl\n",
            "Requirement already satisfied: cffi>=1.0 in /usr/local/lib/python3.6/dist-packages (from soundfile) (1.14.3)\n",
            "Requirement already satisfied: pycparser in /usr/local/lib/python3.6/dist-packages (from cffi>=1.0->soundfile) (2.20)\n",
            "Installing collected packages: soundfile\n",
            "Successfully installed soundfile-0.10.3.post1\n",
            "Collecting PyPrind\n",
            "  Downloading https://files.pythonhosted.org/packages/1e/30/e76fb0c45da8aef49ea8d2a90d4e7a6877b45894c25f12fb961f009a891e/PyPrind-2.11.2-py3-none-any.whl\n",
            "Installing collected packages: PyPrind\n",
            "Successfully installed PyPrind-2.11.2\n"
          ],
          "name": "stdout"
        }
      ]
    },
    {
      "cell_type": "code",
      "metadata": {
        "id": "OVT-6HxzGaWu"
      },
      "source": [
        "import numpy as np\n",
        "import os\n",
        "from sklearn.cluster import KMeans\n",
        "from sklearn.model_selection import train_test_split\n",
        "from scipy.stats import multivariate_normal as mult_gauss\n",
        "import librosa as ls\n",
        "import pyprind"
      ],
      "execution_count": null,
      "outputs": []
    },
    {
      "cell_type": "markdown",
      "metadata": {
        "id": "xhx8bryaehKz"
      },
      "source": [
        "**`Link google drive for file import`**\r\n",
        "\r\n"
      ]
    },
    {
      "cell_type": "code",
      "metadata": {
        "colab": {
          "base_uri": "https://localhost:8080/"
        },
        "id": "Yt1dFGjXGuzw",
        "outputId": "0087a4a6-d32c-4384-9098-107b20dbeefd"
      },
      "source": [
        "from google.colab import drive\n",
        "drive.mount('/content/drive')\n"
      ],
      "execution_count": null,
      "outputs": [
        {
          "output_type": "stream",
          "text": [
            "Mounted at /content/drive\n"
          ],
          "name": "stdout"
        }
      ]
    },
    {
      "cell_type": "markdown",
      "metadata": {
        "id": "HH4ylYUDO4yk"
      },
      "source": [
        "Two phones chosen are:\n",
        "\n",
        "1.   dha\n",
        "2.   dhu\n",
        "\n"
      ]
    },
    {
      "cell_type": "markdown",
      "metadata": {
        "id": "80LJ5ypYexnk"
      },
      "source": [
        "**`Compute MFCC and split data into train and test, taking 20% data for testing and rest for training`**"
      ]
    },
    {
      "cell_type": "code",
      "metadata": {
        "colab": {
          "base_uri": "https://localhost:8080/"
        },
        "id": "dKLMsTw0GmNX",
        "outputId": "9d4dea0e-9356-4ccb-9f1e-1fedb4e723ad"
      },
      "source": [
        "data_dir = '/content/drive/My Drive/SVL-PRASANNA-CV/'   # upload the files in a folder on your google drive and paste link here\n",
        "os.chdir(data_dir)\n",
        "\n",
        "def normalize(X):\n",
        "    temp = X-np.mean(X,axis=0)\n",
        "    Y = temp/np.std(X,axis=0)\n",
        "    return Y\n",
        "\n",
        "dha_mfcc = []\n",
        "for file in os.listdir('./dha'):\n",
        "    if file.startswith('dha'):\n",
        "        path = os.path.join('./dha',file)\n",
        "        signal,sr = ls.load(path, duration=0.21 ,sr=None)\n",
        "        #print(ls.get_duration(signal))\n",
        "        mfccs = ls.feature.mfcc(y=signal, sr=sr, n_mfcc=13, hop_length=int(0.010*sr), n_fft=int(0.025*sr))\n",
        "        dha_mfcc.append(mfccs.T)\n",
        "\n",
        "dhu_mfcc = []\n",
        "for file in os.listdir('./dhu'):\n",
        "    if file.startswith('dhu'):\n",
        "        path = os.path.join('./dhu',file)\n",
        "        signal,sr = ls.load(path, duration=0.21, sr=None)\n",
        "        mfccs = ls.feature.mfcc(y=signal, sr=sr, n_mfcc=13, hop_length=int(0.010*sr), n_fft=int(0.025*sr))\n",
        "        dhu_mfcc.append(mfccs.T)\n",
        "        \n",
        "# Split data into train and test\n",
        "dha_mfcc = normalize(np.array(dha_mfcc))\n",
        "dhu_mfcc = normalize(np.array(dhu_mfcc))\n",
        "dha_mfcc = np.array(dha_mfcc)\n",
        "dhu_mfcc = np.array(dhu_mfcc)\n",
        "#print(dha_mfcc.shape)\n",
        "#print(dhu_mfcc.shape)\n",
        "#print(dha_mfcc.shape, dhu_mfcc.shape)\n",
        "dha_train,dha_test = train_test_split(dha_mfcc, test_size=0.2)      #Separate 2% samples for testing and train the rest\n",
        "dhu_train,dhu_test = train_test_split(dhu_mfcc, test_size=0.2)\n",
        "print(dha_test.shape, dhu_test.shape)\n"
      ],
      "execution_count": null,
      "outputs": [
        {
          "output_type": "stream",
          "text": [
            "/usr/local/lib/python3.6/dist-packages/librosa/filters.py:284: UserWarning: Empty filters detected in mel frequency basis. Some channels will produce empty responses. Try increasing your sampling rate (and fmax) or reducing n_mels.\n",
            "  warnings.warn('Empty filters detected in mel frequency basis. '\n",
            "/usr/local/lib/python3.6/dist-packages/librosa/filters.py:284: UserWarning: Empty filters detected in mel frequency basis. Some channels will produce empty responses. Try increasing your sampling rate (and fmax) or reducing n_mels.\n",
            "  warnings.warn('Empty filters detected in mel frequency basis. '\n",
            "/usr/local/lib/python3.6/dist-packages/librosa/filters.py:284: UserWarning: Empty filters detected in mel frequency basis. Some channels will produce empty responses. Try increasing your sampling rate (and fmax) or reducing n_mels.\n",
            "  warnings.warn('Empty filters detected in mel frequency basis. '\n",
            "/usr/local/lib/python3.6/dist-packages/librosa/filters.py:284: UserWarning: Empty filters detected in mel frequency basis. Some channels will produce empty responses. Try increasing your sampling rate (and fmax) or reducing n_mels.\n",
            "  warnings.warn('Empty filters detected in mel frequency basis. '\n",
            "/usr/local/lib/python3.6/dist-packages/librosa/filters.py:284: UserWarning: Empty filters detected in mel frequency basis. Some channels will produce empty responses. Try increasing your sampling rate (and fmax) or reducing n_mels.\n",
            "  warnings.warn('Empty filters detected in mel frequency basis. '\n",
            "/usr/local/lib/python3.6/dist-packages/librosa/filters.py:284: UserWarning: Empty filters detected in mel frequency basis. Some channels will produce empty responses. Try increasing your sampling rate (and fmax) or reducing n_mels.\n",
            "  warnings.warn('Empty filters detected in mel frequency basis. '\n",
            "/usr/local/lib/python3.6/dist-packages/librosa/filters.py:284: UserWarning: Empty filters detected in mel frequency basis. Some channels will produce empty responses. Try increasing your sampling rate (and fmax) or reducing n_mels.\n",
            "  warnings.warn('Empty filters detected in mel frequency basis. '\n",
            "/usr/local/lib/python3.6/dist-packages/librosa/filters.py:284: UserWarning: Empty filters detected in mel frequency basis. Some channels will produce empty responses. Try increasing your sampling rate (and fmax) or reducing n_mels.\n",
            "  warnings.warn('Empty filters detected in mel frequency basis. '\n",
            "/usr/local/lib/python3.6/dist-packages/librosa/filters.py:284: UserWarning: Empty filters detected in mel frequency basis. Some channels will produce empty responses. Try increasing your sampling rate (and fmax) or reducing n_mels.\n",
            "  warnings.warn('Empty filters detected in mel frequency basis. '\n",
            "/usr/local/lib/python3.6/dist-packages/librosa/filters.py:284: UserWarning: Empty filters detected in mel frequency basis. Some channels will produce empty responses. Try increasing your sampling rate (and fmax) or reducing n_mels.\n",
            "  warnings.warn('Empty filters detected in mel frequency basis. '\n",
            "/usr/local/lib/python3.6/dist-packages/librosa/filters.py:284: UserWarning: Empty filters detected in mel frequency basis. Some channels will produce empty responses. Try increasing your sampling rate (and fmax) or reducing n_mels.\n",
            "  warnings.warn('Empty filters detected in mel frequency basis. '\n",
            "/usr/local/lib/python3.6/dist-packages/librosa/filters.py:284: UserWarning: Empty filters detected in mel frequency basis. Some channels will produce empty responses. Try increasing your sampling rate (and fmax) or reducing n_mels.\n",
            "  warnings.warn('Empty filters detected in mel frequency basis. '\n",
            "/usr/local/lib/python3.6/dist-packages/librosa/filters.py:284: UserWarning: Empty filters detected in mel frequency basis. Some channels will produce empty responses. Try increasing your sampling rate (and fmax) or reducing n_mels.\n",
            "  warnings.warn('Empty filters detected in mel frequency basis. '\n",
            "/usr/local/lib/python3.6/dist-packages/librosa/filters.py:284: UserWarning: Empty filters detected in mel frequency basis. Some channels will produce empty responses. Try increasing your sampling rate (and fmax) or reducing n_mels.\n",
            "  warnings.warn('Empty filters detected in mel frequency basis. '\n",
            "/usr/local/lib/python3.6/dist-packages/librosa/filters.py:284: UserWarning: Empty filters detected in mel frequency basis. Some channels will produce empty responses. Try increasing your sampling rate (and fmax) or reducing n_mels.\n",
            "  warnings.warn('Empty filters detected in mel frequency basis. '\n",
            "/usr/local/lib/python3.6/dist-packages/librosa/filters.py:284: UserWarning: Empty filters detected in mel frequency basis. Some channels will produce empty responses. Try increasing your sampling rate (and fmax) or reducing n_mels.\n",
            "  warnings.warn('Empty filters detected in mel frequency basis. '\n",
            "/usr/local/lib/python3.6/dist-packages/librosa/filters.py:284: UserWarning: Empty filters detected in mel frequency basis. Some channels will produce empty responses. Try increasing your sampling rate (and fmax) or reducing n_mels.\n",
            "  warnings.warn('Empty filters detected in mel frequency basis. '\n",
            "/usr/local/lib/python3.6/dist-packages/librosa/filters.py:284: UserWarning: Empty filters detected in mel frequency basis. Some channels will produce empty responses. Try increasing your sampling rate (and fmax) or reducing n_mels.\n",
            "  warnings.warn('Empty filters detected in mel frequency basis. '\n",
            "/usr/local/lib/python3.6/dist-packages/librosa/filters.py:284: UserWarning: Empty filters detected in mel frequency basis. Some channels will produce empty responses. Try increasing your sampling rate (and fmax) or reducing n_mels.\n",
            "  warnings.warn('Empty filters detected in mel frequency basis. '\n",
            "/usr/local/lib/python3.6/dist-packages/librosa/filters.py:284: UserWarning: Empty filters detected in mel frequency basis. Some channels will produce empty responses. Try increasing your sampling rate (and fmax) or reducing n_mels.\n",
            "  warnings.warn('Empty filters detected in mel frequency basis. '\n",
            "/usr/local/lib/python3.6/dist-packages/librosa/filters.py:284: UserWarning: Empty filters detected in mel frequency basis. Some channels will produce empty responses. Try increasing your sampling rate (and fmax) or reducing n_mels.\n",
            "  warnings.warn('Empty filters detected in mel frequency basis. '\n",
            "/usr/local/lib/python3.6/dist-packages/librosa/filters.py:284: UserWarning: Empty filters detected in mel frequency basis. Some channels will produce empty responses. Try increasing your sampling rate (and fmax) or reducing n_mels.\n",
            "  warnings.warn('Empty filters detected in mel frequency basis. '\n",
            "/usr/local/lib/python3.6/dist-packages/librosa/filters.py:284: UserWarning: Empty filters detected in mel frequency basis. Some channels will produce empty responses. Try increasing your sampling rate (and fmax) or reducing n_mels.\n",
            "  warnings.warn('Empty filters detected in mel frequency basis. '\n",
            "/usr/local/lib/python3.6/dist-packages/librosa/filters.py:284: UserWarning: Empty filters detected in mel frequency basis. Some channels will produce empty responses. Try increasing your sampling rate (and fmax) or reducing n_mels.\n",
            "  warnings.warn('Empty filters detected in mel frequency basis. '\n",
            "/usr/local/lib/python3.6/dist-packages/librosa/filters.py:284: UserWarning: Empty filters detected in mel frequency basis. Some channels will produce empty responses. Try increasing your sampling rate (and fmax) or reducing n_mels.\n",
            "  warnings.warn('Empty filters detected in mel frequency basis. '\n",
            "/usr/local/lib/python3.6/dist-packages/librosa/filters.py:284: UserWarning: Empty filters detected in mel frequency basis. Some channels will produce empty responses. Try increasing your sampling rate (and fmax) or reducing n_mels.\n",
            "  warnings.warn('Empty filters detected in mel frequency basis. '\n",
            "/usr/local/lib/python3.6/dist-packages/librosa/filters.py:284: UserWarning: Empty filters detected in mel frequency basis. Some channels will produce empty responses. Try increasing your sampling rate (and fmax) or reducing n_mels.\n",
            "  warnings.warn('Empty filters detected in mel frequency basis. '\n",
            "/usr/local/lib/python3.6/dist-packages/librosa/filters.py:284: UserWarning: Empty filters detected in mel frequency basis. Some channels will produce empty responses. Try increasing your sampling rate (and fmax) or reducing n_mels.\n",
            "  warnings.warn('Empty filters detected in mel frequency basis. '\n",
            "/usr/local/lib/python3.6/dist-packages/librosa/filters.py:284: UserWarning: Empty filters detected in mel frequency basis. Some channels will produce empty responses. Try increasing your sampling rate (and fmax) or reducing n_mels.\n",
            "  warnings.warn('Empty filters detected in mel frequency basis. '\n",
            "/usr/local/lib/python3.6/dist-packages/librosa/filters.py:284: UserWarning: Empty filters detected in mel frequency basis. Some channels will produce empty responses. Try increasing your sampling rate (and fmax) or reducing n_mels.\n",
            "  warnings.warn('Empty filters detected in mel frequency basis. '\n",
            "/usr/local/lib/python3.6/dist-packages/librosa/filters.py:284: UserWarning: Empty filters detected in mel frequency basis. Some channels will produce empty responses. Try increasing your sampling rate (and fmax) or reducing n_mels.\n",
            "  warnings.warn('Empty filters detected in mel frequency basis. '\n",
            "/usr/local/lib/python3.6/dist-packages/librosa/filters.py:284: UserWarning: Empty filters detected in mel frequency basis. Some channels will produce empty responses. Try increasing your sampling rate (and fmax) or reducing n_mels.\n",
            "  warnings.warn('Empty filters detected in mel frequency basis. '\n",
            "/usr/local/lib/python3.6/dist-packages/librosa/filters.py:284: UserWarning: Empty filters detected in mel frequency basis. Some channels will produce empty responses. Try increasing your sampling rate (and fmax) or reducing n_mels.\n",
            "  warnings.warn('Empty filters detected in mel frequency basis. '\n",
            "/usr/local/lib/python3.6/dist-packages/librosa/filters.py:284: UserWarning: Empty filters detected in mel frequency basis. Some channels will produce empty responses. Try increasing your sampling rate (and fmax) or reducing n_mels.\n",
            "  warnings.warn('Empty filters detected in mel frequency basis. '\n",
            "/usr/local/lib/python3.6/dist-packages/librosa/filters.py:284: UserWarning: Empty filters detected in mel frequency basis. Some channels will produce empty responses. Try increasing your sampling rate (and fmax) or reducing n_mels.\n",
            "  warnings.warn('Empty filters detected in mel frequency basis. '\n",
            "/usr/local/lib/python3.6/dist-packages/librosa/filters.py:284: UserWarning: Empty filters detected in mel frequency basis. Some channels will produce empty responses. Try increasing your sampling rate (and fmax) or reducing n_mels.\n",
            "  warnings.warn('Empty filters detected in mel frequency basis. '\n",
            "/usr/local/lib/python3.6/dist-packages/librosa/filters.py:284: UserWarning: Empty filters detected in mel frequency basis. Some channels will produce empty responses. Try increasing your sampling rate (and fmax) or reducing n_mels.\n",
            "  warnings.warn('Empty filters detected in mel frequency basis. '\n",
            "/usr/local/lib/python3.6/dist-packages/librosa/filters.py:284: UserWarning: Empty filters detected in mel frequency basis. Some channels will produce empty responses. Try increasing your sampling rate (and fmax) or reducing n_mels.\n",
            "  warnings.warn('Empty filters detected in mel frequency basis. '\n",
            "/usr/local/lib/python3.6/dist-packages/librosa/filters.py:284: UserWarning: Empty filters detected in mel frequency basis. Some channels will produce empty responses. Try increasing your sampling rate (and fmax) or reducing n_mels.\n",
            "  warnings.warn('Empty filters detected in mel frequency basis. '\n",
            "/usr/local/lib/python3.6/dist-packages/librosa/filters.py:284: UserWarning: Empty filters detected in mel frequency basis. Some channels will produce empty responses. Try increasing your sampling rate (and fmax) or reducing n_mels.\n",
            "  warnings.warn('Empty filters detected in mel frequency basis. '\n",
            "/usr/local/lib/python3.6/dist-packages/librosa/filters.py:284: UserWarning: Empty filters detected in mel frequency basis. Some channels will produce empty responses. Try increasing your sampling rate (and fmax) or reducing n_mels.\n",
            "  warnings.warn('Empty filters detected in mel frequency basis. '\n",
            "/usr/local/lib/python3.6/dist-packages/librosa/filters.py:284: UserWarning: Empty filters detected in mel frequency basis. Some channels will produce empty responses. Try increasing your sampling rate (and fmax) or reducing n_mels.\n",
            "  warnings.warn('Empty filters detected in mel frequency basis. '\n",
            "/usr/local/lib/python3.6/dist-packages/librosa/filters.py:284: UserWarning: Empty filters detected in mel frequency basis. Some channels will produce empty responses. Try increasing your sampling rate (and fmax) or reducing n_mels.\n",
            "  warnings.warn('Empty filters detected in mel frequency basis. '\n",
            "/usr/local/lib/python3.6/dist-packages/librosa/filters.py:284: UserWarning: Empty filters detected in mel frequency basis. Some channels will produce empty responses. Try increasing your sampling rate (and fmax) or reducing n_mels.\n",
            "  warnings.warn('Empty filters detected in mel frequency basis. '\n",
            "/usr/local/lib/python3.6/dist-packages/librosa/filters.py:284: UserWarning: Empty filters detected in mel frequency basis. Some channels will produce empty responses. Try increasing your sampling rate (and fmax) or reducing n_mels.\n",
            "  warnings.warn('Empty filters detected in mel frequency basis. '\n",
            "/usr/local/lib/python3.6/dist-packages/librosa/filters.py:284: UserWarning: Empty filters detected in mel frequency basis. Some channels will produce empty responses. Try increasing your sampling rate (and fmax) or reducing n_mels.\n",
            "  warnings.warn('Empty filters detected in mel frequency basis. '\n",
            "/usr/local/lib/python3.6/dist-packages/librosa/filters.py:284: UserWarning: Empty filters detected in mel frequency basis. Some channels will produce empty responses. Try increasing your sampling rate (and fmax) or reducing n_mels.\n",
            "  warnings.warn('Empty filters detected in mel frequency basis. '\n",
            "/usr/local/lib/python3.6/dist-packages/librosa/filters.py:284: UserWarning: Empty filters detected in mel frequency basis. Some channels will produce empty responses. Try increasing your sampling rate (and fmax) or reducing n_mels.\n",
            "  warnings.warn('Empty filters detected in mel frequency basis. '\n",
            "/usr/local/lib/python3.6/dist-packages/librosa/filters.py:284: UserWarning: Empty filters detected in mel frequency basis. Some channels will produce empty responses. Try increasing your sampling rate (and fmax) or reducing n_mels.\n",
            "  warnings.warn('Empty filters detected in mel frequency basis. '\n",
            "/usr/local/lib/python3.6/dist-packages/librosa/filters.py:284: UserWarning: Empty filters detected in mel frequency basis. Some channels will produce empty responses. Try increasing your sampling rate (and fmax) or reducing n_mels.\n",
            "  warnings.warn('Empty filters detected in mel frequency basis. '\n",
            "/usr/local/lib/python3.6/dist-packages/librosa/filters.py:284: UserWarning: Empty filters detected in mel frequency basis. Some channels will produce empty responses. Try increasing your sampling rate (and fmax) or reducing n_mels.\n",
            "  warnings.warn('Empty filters detected in mel frequency basis. '\n",
            "/usr/local/lib/python3.6/dist-packages/librosa/filters.py:284: UserWarning: Empty filters detected in mel frequency basis. Some channels will produce empty responses. Try increasing your sampling rate (and fmax) or reducing n_mels.\n",
            "  warnings.warn('Empty filters detected in mel frequency basis. '\n",
            "/usr/local/lib/python3.6/dist-packages/librosa/filters.py:284: UserWarning: Empty filters detected in mel frequency basis. Some channels will produce empty responses. Try increasing your sampling rate (and fmax) or reducing n_mels.\n",
            "  warnings.warn('Empty filters detected in mel frequency basis. '\n",
            "/usr/local/lib/python3.6/dist-packages/librosa/filters.py:284: UserWarning: Empty filters detected in mel frequency basis. Some channels will produce empty responses. Try increasing your sampling rate (and fmax) or reducing n_mels.\n",
            "  warnings.warn('Empty filters detected in mel frequency basis. '\n",
            "/usr/local/lib/python3.6/dist-packages/librosa/filters.py:284: UserWarning: Empty filters detected in mel frequency basis. Some channels will produce empty responses. Try increasing your sampling rate (and fmax) or reducing n_mels.\n",
            "  warnings.warn('Empty filters detected in mel frequency basis. '\n",
            "/usr/local/lib/python3.6/dist-packages/librosa/filters.py:284: UserWarning: Empty filters detected in mel frequency basis. Some channels will produce empty responses. Try increasing your sampling rate (and fmax) or reducing n_mels.\n",
            "  warnings.warn('Empty filters detected in mel frequency basis. '\n",
            "/usr/local/lib/python3.6/dist-packages/librosa/filters.py:284: UserWarning: Empty filters detected in mel frequency basis. Some channels will produce empty responses. Try increasing your sampling rate (and fmax) or reducing n_mels.\n",
            "  warnings.warn('Empty filters detected in mel frequency basis. '\n",
            "/usr/local/lib/python3.6/dist-packages/librosa/filters.py:284: UserWarning: Empty filters detected in mel frequency basis. Some channels will produce empty responses. Try increasing your sampling rate (and fmax) or reducing n_mels.\n",
            "  warnings.warn('Empty filters detected in mel frequency basis. '\n",
            "/usr/local/lib/python3.6/dist-packages/librosa/filters.py:284: UserWarning: Empty filters detected in mel frequency basis. Some channels will produce empty responses. Try increasing your sampling rate (and fmax) or reducing n_mels.\n",
            "  warnings.warn('Empty filters detected in mel frequency basis. '\n",
            "/usr/local/lib/python3.6/dist-packages/librosa/filters.py:284: UserWarning: Empty filters detected in mel frequency basis. Some channels will produce empty responses. Try increasing your sampling rate (and fmax) or reducing n_mels.\n",
            "  warnings.warn('Empty filters detected in mel frequency basis. '\n",
            "/usr/local/lib/python3.6/dist-packages/librosa/filters.py:284: UserWarning: Empty filters detected in mel frequency basis. Some channels will produce empty responses. Try increasing your sampling rate (and fmax) or reducing n_mels.\n",
            "  warnings.warn('Empty filters detected in mel frequency basis. '\n",
            "/usr/local/lib/python3.6/dist-packages/librosa/filters.py:284: UserWarning: Empty filters detected in mel frequency basis. Some channels will produce empty responses. Try increasing your sampling rate (and fmax) or reducing n_mels.\n",
            "  warnings.warn('Empty filters detected in mel frequency basis. '\n",
            "/usr/local/lib/python3.6/dist-packages/librosa/filters.py:284: UserWarning: Empty filters detected in mel frequency basis. Some channels will produce empty responses. Try increasing your sampling rate (and fmax) or reducing n_mels.\n",
            "  warnings.warn('Empty filters detected in mel frequency basis. '\n",
            "/usr/local/lib/python3.6/dist-packages/librosa/filters.py:284: UserWarning: Empty filters detected in mel frequency basis. Some channels will produce empty responses. Try increasing your sampling rate (and fmax) or reducing n_mels.\n",
            "  warnings.warn('Empty filters detected in mel frequency basis. '\n",
            "/usr/local/lib/python3.6/dist-packages/librosa/filters.py:284: UserWarning: Empty filters detected in mel frequency basis. Some channels will produce empty responses. Try increasing your sampling rate (and fmax) or reducing n_mels.\n",
            "  warnings.warn('Empty filters detected in mel frequency basis. '\n",
            "/usr/local/lib/python3.6/dist-packages/librosa/filters.py:284: UserWarning: Empty filters detected in mel frequency basis. Some channels will produce empty responses. Try increasing your sampling rate (and fmax) or reducing n_mels.\n",
            "  warnings.warn('Empty filters detected in mel frequency basis. '\n",
            "/usr/local/lib/python3.6/dist-packages/librosa/filters.py:284: UserWarning: Empty filters detected in mel frequency basis. Some channels will produce empty responses. Try increasing your sampling rate (and fmax) or reducing n_mels.\n",
            "  warnings.warn('Empty filters detected in mel frequency basis. '\n",
            "/usr/local/lib/python3.6/dist-packages/librosa/filters.py:284: UserWarning: Empty filters detected in mel frequency basis. Some channels will produce empty responses. Try increasing your sampling rate (and fmax) or reducing n_mels.\n",
            "  warnings.warn('Empty filters detected in mel frequency basis. '\n",
            "/usr/local/lib/python3.6/dist-packages/librosa/filters.py:284: UserWarning: Empty filters detected in mel frequency basis. Some channels will produce empty responses. Try increasing your sampling rate (and fmax) or reducing n_mels.\n",
            "  warnings.warn('Empty filters detected in mel frequency basis. '\n",
            "/usr/local/lib/python3.6/dist-packages/librosa/filters.py:284: UserWarning: Empty filters detected in mel frequency basis. Some channels will produce empty responses. Try increasing your sampling rate (and fmax) or reducing n_mels.\n",
            "  warnings.warn('Empty filters detected in mel frequency basis. '\n",
            "/usr/local/lib/python3.6/dist-packages/librosa/filters.py:284: UserWarning: Empty filters detected in mel frequency basis. Some channels will produce empty responses. Try increasing your sampling rate (and fmax) or reducing n_mels.\n",
            "  warnings.warn('Empty filters detected in mel frequency basis. '\n"
          ],
          "name": "stderr"
        },
        {
          "output_type": "stream",
          "text": [
            "(8, 22, 13) (8, 22, 13)\n"
          ],
          "name": "stdout"
        },
        {
          "output_type": "stream",
          "text": [
            "/usr/local/lib/python3.6/dist-packages/librosa/filters.py:284: UserWarning: Empty filters detected in mel frequency basis. Some channels will produce empty responses. Try increasing your sampling rate (and fmax) or reducing n_mels.\n",
            "  warnings.warn('Empty filters detected in mel frequency basis. '\n"
          ],
          "name": "stderr"
        }
      ]
    },
    {
      "cell_type": "code",
      "metadata": {
        "id": "qeiFlqfaHAhL"
      },
      "source": [
        "k = 5     #Model size \n",
        "m_gmm = 3\n",
        "vect_len = 13"
      ],
      "execution_count": 54,
      "outputs": []
    },
    {
      "cell_type": "code",
      "metadata": {
        "id": "HYnGMgtwHDnJ"
      },
      "source": [
        "def pdf(x, state, weights):\n",
        "    wt = weights['w'][state]\n",
        "    mean = weights['mu'][state]\n",
        "    var = weights['co_var'][state]\n",
        "    \n",
        "    pdf = 0\n",
        "    \n",
        "    for i in range(m_gmm):\n",
        "        a = (np.sqrt((np.linalg.det(var[i]) * (2*np.pi)**len(x))))\n",
        "        b = np.exp((-np.matmul(np.matmul(np.transpose(x-mean[i]) , np.matrix(var[i]).I ), (x-mean[i]))/2))\n",
        "        pdf = pdf + float(b/a)\n",
        "    return pdf"
      ],
      "execution_count": 55,
      "outputs": []
    },
    {
      "cell_type": "code",
      "metadata": {
        "id": "gVyjJrCGHFxG"
      },
      "source": [
        "def get_alpha(x, weights):\n",
        "    alpha = np.zeros((x.shape[0], k))\n",
        "    \n",
        "    for j in range(alpha.shape[1]):\n",
        "        alpha[0][j] = weights['phi'][j] * pdf(x[0],j, weights)\n",
        "        \n",
        "    for i in range(1,alpha.shape[0]):\n",
        "        for j in range(alpha.shape[1]):\n",
        "#             print(A[:,j].shape, alpha[i-1].shape)\n",
        "            alpha[i][j] = np.dot(weights['A'][:,j].reshape(1,-1), alpha[i-1].reshape(-1,1)) * pdf(x[i], j, weights)\n",
        "    \n",
        "    return alpha\n",
        "\n",
        "def get_beta(x, weights):\n",
        "    beta = np.zeros((x.shape[0], k))\n",
        "    \n",
        "    for j in range(beta.shape[1]):\n",
        "        beta[x.shape[0]-1][j] = 1\n",
        "        \n",
        "    for t in reversed(range(0,beta.shape[0]-1)):\n",
        "        for i in range(beta.shape[1]):\n",
        "            temp = 0\n",
        "            for j in range(k):\n",
        "                temp += beta[t+1][j]*weights['A'][i][j]*pdf(x[t+1], j, weights)\n",
        "            beta[t][i] = temp\n",
        "    \n",
        "    return beta"
      ],
      "execution_count": 56,
      "outputs": []
    },
    {
      "cell_type": "code",
      "metadata": {
        "id": "MSNAXbdPHJgh"
      },
      "source": [
        "def get_gamma(alpha,beta, weights):\n",
        "    gamma = []\n",
        "    for i in range(0,len(alpha)):\n",
        "        gamma.append((alpha[i]*beta[i])/np.sum(alpha[i]*beta[i]))\n",
        "    gamma = np.asarray(gamma)\n",
        "    \n",
        "    return gamma\n",
        "\n",
        "def get_zeta(x, alpha, beta, weights):\n",
        "    zeta = []\n",
        "    for t in range(alpha.shape[0]-1):\n",
        "        temp = np.zeros((k, k))\n",
        "        for i in range(k):\n",
        "            for j in range(k):\n",
        "                temp[i][j] = alpha[t][i]*weights['A'][i][j]*pdf(x[t+1], j, weights)*beta[t+1][j]\n",
        "        zeta.append(temp/np.sum(temp))\n",
        "    zeta = np.array(zeta)\n",
        "    return zeta"
      ],
      "execution_count": 57,
      "outputs": []
    },
    {
      "cell_type": "code",
      "metadata": {
        "id": "lOJPdflKHN8q"
      },
      "source": [
        "def gmm_gamma(x, gamma, weights):\n",
        "    gmm_g = np.zeros((x.shape[0], k, m_gmm))\n",
        "    for t in range(x.shape[0]):\n",
        "        for i in range(k):\n",
        "            temp = []\n",
        "            for m in range(m_gmm):\n",
        "                a = (np.sqrt((np.linalg.det(weights['co_var'][i][m]) * (2*np.pi)**len(x[t]))))\n",
        "                b = np.exp((-np.matmul(np.matmul(np.transpose(x[t]-weights['mu'][i][m]) , np.matrix(weights['co_var'][i][m]).I ), (x[t]-weights['mu'][i][m]))/2))\n",
        "                temp.append(a/b)\n",
        "            gmm_g[t][i] = gamma[t][i] * np.squeeze(np.array(temp/np.sum(temp)))\n",
        "    return gmm_g"
      ],
      "execution_count": 58,
      "outputs": []
    },
    {
      "cell_type": "code",
      "metadata": {
        "id": "NQPIWNxzHVC7"
      },
      "source": [
        "def new_params(x, gamma, zeta, gmm_g, weights):\n",
        "    new_phi = gamma[0]\n",
        "    new_A = np.sum(zeta, axis = 0)/np.sum(gamma, axis = 0)\n",
        "    \n",
        "    new_w = np.sum(gmm_g, axis = 0)/np.sum(np.sum(gmm_g, axis = 0), axis = 0)\n",
        "    \n",
        "    new_mu = np.sum(np.tile(gmm_g.reshape(gmm_g.shape + (1,)), (1,1,1,x.shape[1])) * np.tile(x.reshape(x.shape[0], 1,1, x.shape[1]), (1,gmm_g.shape[1], gmm_g.shape[2],1)), axis = 0)/np.tile(np.sum(gmm_g, axis = 0).reshape(gmm_g.shape[1:] + (1,)), (1,1,x.shape[1]))\n",
        "    \n",
        "    new_co_var = np.zeros((k, m_gmm, x.shape[1], x.shape[1]))\n",
        "    \n",
        "    for j in range(k):\n",
        "        for m in range(m_gmm):\n",
        "            temp = []\n",
        "            for t in range(x.shape[0]):\n",
        "                te = gmm_g[t][j][m] * np.matmul((x[t] - weights['mu'][j][m]).reshape(-1,1), (x[t] - weights['mu'][j][m]).reshape(1,-1))\n",
        "                temp.append(te)\n",
        "            new_co_var[j][m] = np.sum(np.array(temp), axis = 0)/np.sum(gmm_g[:,j,m], axis = 0)\n",
        "    return new_phi, new_A, new_w, new_mu, new_co_var"
      ],
      "execution_count": 59,
      "outputs": []
    },
    {
      "cell_type": "markdown",
      "metadata": {
        "id": "JhOIDeyCfieO"
      },
      "source": [
        "Construct HMM1"
      ]
    },
    {
      "cell_type": "code",
      "metadata": {
        "colab": {
          "base_uri": "https://localhost:8080/"
        },
        "id": "i4ECYvG9HXsl",
        "outputId": "dcba7038-0f5b-4e38-a13a-cccf530bc297"
      },
      "source": [
        "hmm1_weights = {}\n",
        "hmm1_weights['phi'] = np.ones(k)/k\n",
        "print(hmm1_weights['phi'])\n",
        "\n",
        "hmm1_weights['A'] = np.ones((k, k))/(k)\n",
        "print(hmm1_weights['A'])\n",
        "\n",
        "w = np.random.uniform(size = (k,m_gmm))\n",
        "hmm1_weights['w'] = np.transpose(np.transpose(w)/np.sum(w, axis = 1))\n",
        "print(hmm1_weights['w'])\n",
        "\n",
        "hmm1_weights['mu'] = np.random.rand(k, m_gmm, vect_len)\n",
        "print(hmm1_weights['mu'].shape)\n",
        "\n",
        "co_var = [np.eye(vect_len, vect_len) for _ in range(k*m_gmm)]\n",
        "hmm1_weights['co_var'] = np.array(co_var).reshape(k, m_gmm, vect_len, vect_len)\n",
        "print(hmm1_weights['co_var'].shape)"
      ],
      "execution_count": 60,
      "outputs": [
        {
          "output_type": "stream",
          "text": [
            "[0.2 0.2 0.2 0.2 0.2]\n",
            "[[0.2 0.2 0.2 0.2 0.2]\n",
            " [0.2 0.2 0.2 0.2 0.2]\n",
            " [0.2 0.2 0.2 0.2 0.2]\n",
            " [0.2 0.2 0.2 0.2 0.2]\n",
            " [0.2 0.2 0.2 0.2 0.2]]\n",
            "[[0.31606982 0.51582742 0.16810276]\n",
            " [0.2239833  0.48032387 0.29569283]\n",
            " [0.07732221 0.39830988 0.52436791]\n",
            " [0.32227797 0.36866502 0.30905701]\n",
            " [0.14479191 0.47455622 0.38065187]]\n",
            "(5, 3, 13)\n",
            "(5, 3, 13, 13)\n"
          ],
          "name": "stdout"
        }
      ]
    },
    {
      "cell_type": "markdown",
      "metadata": {
        "id": "4T-JdKgsIqeE"
      },
      "source": [
        "**`Train HMM1 for phone \"dha\"`**"
      ]
    },
    {
      "cell_type": "code",
      "metadata": {
        "id": "I2Bh4gulU4VX"
      },
      "source": [
        "epochs = 15"
      ],
      "execution_count": 61,
      "outputs": []
    },
    {
      "cell_type": "code",
      "metadata": {
        "colab": {
          "base_uri": "https://localhost:8080/"
        },
        "id": "9a_DpTTsHhqq",
        "outputId": "ee9ec9bf-027e-47c6-95be-70323295bb1a"
      },
      "source": [
        "print('training HMM for dha')\n",
        "\n",
        "for epoch in range(epochs):\n",
        "    n_phi = np.zeros_like(hmm1_weights['phi'])\n",
        "    n_A = np.zeros_like(hmm1_weights['A'])\n",
        "    n_w = np.zeros_like(hmm1_weights['w'])\n",
        "    n_mu = np.zeros_like(hmm1_weights['mu'])\n",
        "    n_co_var = np.zeros_like(hmm1_weights['co_var'])\n",
        "    \n",
        "    print('epoch:', epoch)\n",
        "    bar = pyprind.ProgPercent(dha_train.shape[0])\n",
        "    \n",
        "    for i in range(dha_train.shape[0]):\n",
        "        bar.update()\n",
        "        inp = dha_train[i]\n",
        "        alpha = get_alpha(inp, hmm1_weights)\n",
        "        beta = get_beta(inp, hmm1_weights)\n",
        "        gamma = get_gamma(alpha, beta, hmm1_weights)\n",
        "        zeta = get_zeta(inp, alpha, beta, hmm1_weights)\n",
        "        gmm_g = gmm_gamma(inp, gamma, hmm1_weights)\n",
        "        new_phi, new_A, new_w, new_mu, new_co_var = new_params(inp, gamma, zeta, gmm_g, hmm1_weights)\n",
        "\n",
        "        n_phi = n_phi + new_phi\n",
        "        n_A = n_A + new_A\n",
        "        n_w = n_w + new_w\n",
        "        n_mu = n_mu + new_mu\n",
        "        n_co_var = n_co_var + new_co_var\n",
        "#         print('sample:', i)\n",
        "    \n",
        "    hmm1_weights['phi'] = n_phi/inp.shape[0]\n",
        "    hmm1_weights['A'] = n_A/inp.shape[0]\n",
        "    hmm1_weights['mu'] = n_mu/inp.shape[0]\n",
        "    hmm1_weights['co_var'] = n_co_var/inp.shape[0]"
      ],
      "execution_count": 62,
      "outputs": [
        {
          "output_type": "stream",
          "text": [
            "training HMM for dha\n",
            "epoch: 0\n"
          ],
          "name": "stdout"
        },
        {
          "output_type": "stream",
          "text": [
            "[100 %] Time elapsed: 00:00:09 | ETA: 00:00:00\n",
            "Total time elapsed: 00:00:09\n"
          ],
          "name": "stderr"
        },
        {
          "output_type": "stream",
          "text": [
            "epoch: 1\n"
          ],
          "name": "stdout"
        },
        {
          "output_type": "stream",
          "text": [
            "[100 %] Time elapsed: 00:00:10 | ETA: 00:00:00\n",
            "Total time elapsed: 00:00:10\n"
          ],
          "name": "stderr"
        },
        {
          "output_type": "stream",
          "text": [
            "epoch: 2\n"
          ],
          "name": "stdout"
        },
        {
          "output_type": "stream",
          "text": [
            "[100 %] Time elapsed: 00:00:09 | ETA: 00:00:00\n",
            "Total time elapsed: 00:00:09\n"
          ],
          "name": "stderr"
        },
        {
          "output_type": "stream",
          "text": [
            "epoch: 3\n"
          ],
          "name": "stdout"
        },
        {
          "output_type": "stream",
          "text": [
            "[100 %] Time elapsed: 00:00:09 | ETA: 00:00:00\n",
            "Total time elapsed: 00:00:09\n"
          ],
          "name": "stderr"
        },
        {
          "output_type": "stream",
          "text": [
            "epoch: 4\n"
          ],
          "name": "stdout"
        },
        {
          "output_type": "stream",
          "text": [
            "[100 %] Time elapsed: 00:00:09 | ETA: 00:00:00\n",
            "Total time elapsed: 00:00:09\n"
          ],
          "name": "stderr"
        },
        {
          "output_type": "stream",
          "text": [
            "epoch: 5\n"
          ],
          "name": "stdout"
        },
        {
          "output_type": "stream",
          "text": [
            "[100 %] Time elapsed: 00:00:10 | ETA: 00:00:00\n",
            "Total time elapsed: 00:00:10\n"
          ],
          "name": "stderr"
        },
        {
          "output_type": "stream",
          "text": [
            "epoch: 6\n"
          ],
          "name": "stdout"
        },
        {
          "output_type": "stream",
          "text": [
            "[100 %] Time elapsed: 00:00:10 | ETA: 00:00:00\n",
            "Total time elapsed: 00:00:10\n"
          ],
          "name": "stderr"
        },
        {
          "output_type": "stream",
          "text": [
            "epoch: 7\n"
          ],
          "name": "stdout"
        },
        {
          "output_type": "stream",
          "text": [
            "[100 %] Time elapsed: 00:00:09 | ETA: 00:00:00\n",
            "Total time elapsed: 00:00:09\n"
          ],
          "name": "stderr"
        },
        {
          "output_type": "stream",
          "text": [
            "epoch: 8\n"
          ],
          "name": "stdout"
        },
        {
          "output_type": "stream",
          "text": [
            "[100 %] Time elapsed: 00:00:09 | ETA: 00:00:00\n",
            "Total time elapsed: 00:00:09\n"
          ],
          "name": "stderr"
        },
        {
          "output_type": "stream",
          "text": [
            "epoch: 9\n"
          ],
          "name": "stdout"
        },
        {
          "output_type": "stream",
          "text": [
            "[100 %] Time elapsed: 00:00:09 | ETA: 00:00:00\n",
            "Total time elapsed: 00:00:09\n"
          ],
          "name": "stderr"
        },
        {
          "output_type": "stream",
          "text": [
            "epoch: 10\n"
          ],
          "name": "stdout"
        },
        {
          "output_type": "stream",
          "text": [
            "[100 %] Time elapsed: 00:00:09 | ETA: 00:00:00\n",
            "Total time elapsed: 00:00:09\n"
          ],
          "name": "stderr"
        },
        {
          "output_type": "stream",
          "text": [
            "epoch: 11\n"
          ],
          "name": "stdout"
        },
        {
          "output_type": "stream",
          "text": [
            "[100 %] Time elapsed: 00:00:09 | ETA: 00:00:00\n",
            "Total time elapsed: 00:00:09\n"
          ],
          "name": "stderr"
        },
        {
          "output_type": "stream",
          "text": [
            "epoch: 12\n"
          ],
          "name": "stdout"
        },
        {
          "output_type": "stream",
          "text": [
            "[100 %] Time elapsed: 00:00:09 | ETA: 00:00:00\n",
            "Total time elapsed: 00:00:09\n"
          ],
          "name": "stderr"
        },
        {
          "output_type": "stream",
          "text": [
            "epoch: 13\n"
          ],
          "name": "stdout"
        },
        {
          "output_type": "stream",
          "text": [
            "[100 %] Time elapsed: 00:00:09 | ETA: 00:00:00\n",
            "Total time elapsed: 00:00:09\n"
          ],
          "name": "stderr"
        },
        {
          "output_type": "stream",
          "text": [
            "epoch: 14\n"
          ],
          "name": "stdout"
        },
        {
          "output_type": "stream",
          "text": [
            "[100 %] Time elapsed: 00:00:09 | ETA: 00:00:00\n",
            "Total time elapsed: 00:00:09\n"
          ],
          "name": "stderr"
        }
      ]
    },
    {
      "cell_type": "markdown",
      "metadata": {
        "id": "sJsHv64hIvdf"
      },
      "source": [
        "Construct HMM2"
      ]
    },
    {
      "cell_type": "code",
      "metadata": {
        "colab": {
          "base_uri": "https://localhost:8080/"
        },
        "id": "FMnJuqv_Iu3x",
        "outputId": "4c3d651b-0c9b-4d04-f737-4e2827c524f1"
      },
      "source": [
        "hmm2_weights = {}\n",
        "hmm2_weights['phi'] = np.ones(k)/k\n",
        "print(hmm2_weights['phi'])\n",
        "\n",
        "hmm2_weights['A'] = np.ones((k, k))/(k)\n",
        "print(hmm2_weights['A'])\n",
        "\n",
        "w = np.random.uniform(size = (k,m_gmm))\n",
        "hmm2_weights['w'] = np.transpose(np.transpose(w)/np.sum(w, axis = 1))\n",
        "print(hmm2_weights['w'])\n",
        "\n",
        "hmm2_weights['mu'] = np.random.rand(k, m_gmm, vect_len)\n",
        "print(hmm2_weights['mu'].shape)\n",
        "\n",
        "co_var = [np.eye(vect_len, vect_len) for _ in range(k*m_gmm)]\n",
        "hmm2_weights['co_var'] = np.array(co_var).reshape(k, m_gmm, vect_len, vect_len)\n",
        "print(hmm2_weights['co_var'].shape)"
      ],
      "execution_count": 63,
      "outputs": [
        {
          "output_type": "stream",
          "text": [
            "[0.2 0.2 0.2 0.2 0.2]\n",
            "[[0.2 0.2 0.2 0.2 0.2]\n",
            " [0.2 0.2 0.2 0.2 0.2]\n",
            " [0.2 0.2 0.2 0.2 0.2]\n",
            " [0.2 0.2 0.2 0.2 0.2]\n",
            " [0.2 0.2 0.2 0.2 0.2]]\n",
            "[[9.35570768e-01 5.22690637e-03 5.92023252e-02]\n",
            " [1.68018622e-01 3.85079949e-01 4.46901429e-01]\n",
            " [5.91115549e-01 4.06049961e-01 2.83448988e-03]\n",
            " [2.93344893e-01 2.97193148e-01 4.09461959e-01]\n",
            " [8.98916552e-06 2.23469043e-01 7.76521967e-01]]\n",
            "(5, 3, 13)\n",
            "(5, 3, 13, 13)\n"
          ],
          "name": "stdout"
        }
      ]
    },
    {
      "cell_type": "markdown",
      "metadata": {
        "id": "P5iDMZhJJC_6"
      },
      "source": [
        "**`Train HMM2 for \"dhu\"`**"
      ]
    },
    {
      "cell_type": "code",
      "metadata": {
        "colab": {
          "base_uri": "https://localhost:8080/"
        },
        "id": "_Fz-GDsoJAcC",
        "outputId": "d13e5733-983e-44ee-b385-0f4b900220eb"
      },
      "source": [
        "print('training HMM2')\n",
        "for epoch in range(epochs):\n",
        "    n_phi = np.zeros_like(hmm2_weights['phi'])\n",
        "    n_A = np.zeros_like(hmm2_weights['A'])\n",
        "    n_w = np.zeros_like(hmm2_weights['w'])\n",
        "    n_mu = np.zeros_like(hmm2_weights['mu'])\n",
        "    n_co_var = np.zeros_like(hmm2_weights['co_var'])\n",
        "    \n",
        "    print('epoch:', epoch)\n",
        "    bar = pyprind.ProgPercent(dhu_train.shape[0])\n",
        "    \n",
        "    \n",
        "    for i in range(dhu_train.shape[0]):\n",
        "        bar.update()\n",
        "        inp = dhu_train[i]\n",
        "        alpha = get_alpha(inp, hmm2_weights)\n",
        "        beta = get_beta(inp, hmm2_weights)\n",
        "        gamma = get_gamma(alpha, beta, hmm2_weights)\n",
        "        zeta = get_zeta(inp, alpha, beta, hmm2_weights)\n",
        "        gmm_g = gmm_gamma(inp, gamma, hmm2_weights)\n",
        "        new_phi, new_A, new_w, new_mu, new_co_var = new_params(inp, gamma, zeta, gmm_g, hmm2_weights)\n",
        "        \n",
        "        n_phi = n_phi + new_phi\n",
        "        n_A = n_A + new_A\n",
        "        n_w = n_w + new_w\n",
        "        n_mu = n_mu + new_mu\n",
        "        n_co_var = n_co_var + new_co_var\n",
        "#         print('epoch:', epoch, 'sample:', i)\n",
        "    \n",
        "    hmm2_weights['phi'] = n_phi/inp.shape[0]\n",
        "    hmm2_weights['A'] = n_A/inp.shape[0]\n",
        "    hmm2_weights['mu'] = n_mu/inp.shape[0]\n",
        "    hmm2_weights['co_var'] = n_co_var/inp.shape[0]"
      ],
      "execution_count": 64,
      "outputs": [
        {
          "output_type": "stream",
          "text": [
            "training HMM2\n",
            "epoch: 0\n"
          ],
          "name": "stdout"
        },
        {
          "output_type": "stream",
          "text": [
            "[100 %] Time elapsed: 00:00:09 | ETA: 00:00:00\n",
            "Total time elapsed: 00:00:09\n"
          ],
          "name": "stderr"
        },
        {
          "output_type": "stream",
          "text": [
            "epoch: 1\n"
          ],
          "name": "stdout"
        },
        {
          "output_type": "stream",
          "text": [
            "[100 %] Time elapsed: 00:00:09 | ETA: 00:00:00\n",
            "Total time elapsed: 00:00:09\n"
          ],
          "name": "stderr"
        },
        {
          "output_type": "stream",
          "text": [
            "epoch: 2\n"
          ],
          "name": "stdout"
        },
        {
          "output_type": "stream",
          "text": [
            "[100 %] Time elapsed: 00:00:09 | ETA: 00:00:00\n",
            "Total time elapsed: 00:00:09\n"
          ],
          "name": "stderr"
        },
        {
          "output_type": "stream",
          "text": [
            "epoch: 3\n"
          ],
          "name": "stdout"
        },
        {
          "output_type": "stream",
          "text": [
            "[100 %] Time elapsed: 00:00:09 | ETA: 00:00:00\n",
            "Total time elapsed: 00:00:09\n"
          ],
          "name": "stderr"
        },
        {
          "output_type": "stream",
          "text": [
            "epoch: 4\n"
          ],
          "name": "stdout"
        },
        {
          "output_type": "stream",
          "text": [
            "[100 %] Time elapsed: 00:00:09 | ETA: 00:00:00\n",
            "Total time elapsed: 00:00:09\n"
          ],
          "name": "stderr"
        },
        {
          "output_type": "stream",
          "text": [
            "epoch: 5\n"
          ],
          "name": "stdout"
        },
        {
          "output_type": "stream",
          "text": [
            "[100 %] Time elapsed: 00:00:09 | ETA: 00:00:00\n",
            "Total time elapsed: 00:00:09\n"
          ],
          "name": "stderr"
        },
        {
          "output_type": "stream",
          "text": [
            "epoch: 6\n"
          ],
          "name": "stdout"
        },
        {
          "output_type": "stream",
          "text": [
            "[100 %] Time elapsed: 00:00:09 | ETA: 00:00:00\n",
            "Total time elapsed: 00:00:09\n"
          ],
          "name": "stderr"
        },
        {
          "output_type": "stream",
          "text": [
            "epoch: 7\n"
          ],
          "name": "stdout"
        },
        {
          "output_type": "stream",
          "text": [
            "[100 %] Time elapsed: 00:00:09 | ETA: 00:00:00\n",
            "Total time elapsed: 00:00:09\n"
          ],
          "name": "stderr"
        },
        {
          "output_type": "stream",
          "text": [
            "epoch: 8\n"
          ],
          "name": "stdout"
        },
        {
          "output_type": "stream",
          "text": [
            "[100 %] Time elapsed: 00:00:09 | ETA: 00:00:00\n",
            "Total time elapsed: 00:00:09\n"
          ],
          "name": "stderr"
        },
        {
          "output_type": "stream",
          "text": [
            "epoch: 9\n"
          ],
          "name": "stdout"
        },
        {
          "output_type": "stream",
          "text": [
            "[100 %] Time elapsed: 00:00:09 | ETA: 00:00:00\n",
            "Total time elapsed: 00:00:09\n"
          ],
          "name": "stderr"
        },
        {
          "output_type": "stream",
          "text": [
            "epoch: 10\n"
          ],
          "name": "stdout"
        },
        {
          "output_type": "stream",
          "text": [
            "[100 %] Time elapsed: 00:00:09 | ETA: 00:00:00\n",
            "Total time elapsed: 00:00:09\n"
          ],
          "name": "stderr"
        },
        {
          "output_type": "stream",
          "text": [
            "epoch: 11\n"
          ],
          "name": "stdout"
        },
        {
          "output_type": "stream",
          "text": [
            "[100 %] Time elapsed: 00:00:09 | ETA: 00:00:00\n",
            "Total time elapsed: 00:00:09\n"
          ],
          "name": "stderr"
        },
        {
          "output_type": "stream",
          "text": [
            "epoch: 12\n"
          ],
          "name": "stdout"
        },
        {
          "output_type": "stream",
          "text": [
            "[100 %] Time elapsed: 00:00:09 | ETA: 00:00:00\n",
            "Total time elapsed: 00:00:09\n"
          ],
          "name": "stderr"
        },
        {
          "output_type": "stream",
          "text": [
            "epoch: 13\n"
          ],
          "name": "stdout"
        },
        {
          "output_type": "stream",
          "text": [
            "[100 %] Time elapsed: 00:00:09 | ETA: 00:00:00\n",
            "Total time elapsed: 00:00:09\n"
          ],
          "name": "stderr"
        },
        {
          "output_type": "stream",
          "text": [
            "epoch: 14\n"
          ],
          "name": "stdout"
        },
        {
          "output_type": "stream",
          "text": [
            "[100 %] Time elapsed: 00:00:09 | ETA: 00:00:00\n",
            "Total time elapsed: 00:00:09\n"
          ],
          "name": "stderr"
        }
      ]
    },
    {
      "cell_type": "markdown",
      "metadata": {
        "id": "7QkD65OYWAk8"
      },
      "source": [
        "# **`HMM classifier `**\n",
        "\n",
        "Computes likelihood for \"dha\" and \"dhu\" from hmm1 and hmm2. Selects the one with greater likelihood\n"
      ]
    },
    {
      "cell_type": "code",
      "metadata": {
        "colab": {
          "base_uri": "https://localhost:8080/"
        },
        "id": "P74MFufKKOz4",
        "outputId": "19424864-ef91-48e3-9c26-297f02804e0d"
      },
      "source": [
        "px_dha = []\n",
        "px_dhu = []\n",
        "\n",
        "for l in range(dha_mfcc.shape[0]):\n",
        "    px_dha.append(np.sum(get_alpha(dha_mfcc[l], hmm1_weights)))     #Correct\n",
        "    px_dhu.append(np.sum(get_alpha(dha_mfcc[l], hmm2_weights)))     #Error\n",
        "#print(px_dha)\n",
        "count = 0\n",
        "for i in range(dha_mfcc.shape[0]):\n",
        "    if(px_dha[i]>=px_dhu[i]):\n",
        "        count += 1\n",
        "d1=count/float(dha_mfcc.shape[0])\n",
        "print(count/float(dha_mfcc.shape[0]))     #likelihood for 'dha'\n",
        "\n",
        "px_dha = []\n",
        "px_dhu = []\n",
        "\n",
        "for l in range(dhu_mfcc.shape[0]):\n",
        "    px_dha.append(np.sum(get_alpha(dhu_mfcc[l], hmm1_weights)))\n",
        "    px_dhu.append(np.sum(get_alpha(dhu_mfcc[l], hmm2_weights)))\n",
        "#print(px_dhu)\n",
        "count = 0\n",
        "for i in range(dhu_mfcc.shape[0]):\n",
        "    if(px_dhu[i]>=px_dha[i]):\n",
        "        count += 1\n",
        "d2=count/float(dhu_mfcc.shape[0])\n",
        "print(count/float(dhu_mfcc.shape[0]))     #likelihood for 'dhu'\n",
        "if(d1>d2):\n",
        "  print(\"dha\")\n",
        "else:\n",
        "  print(\"dhu\")\n"
      ],
      "execution_count": 65,
      "outputs": [
        {
          "output_type": "stream",
          "text": [
            "0.8611111111111112\n",
            "0.7222222222222222\n",
            "dha\n"
          ],
          "name": "stdout"
        }
      ]
    }
  ]
}