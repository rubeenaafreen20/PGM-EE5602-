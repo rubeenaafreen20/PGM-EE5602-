{
 "cells": [
  {
   "cell_type": "code",
   "execution_count": 163,
   "metadata": {},
   "outputs": [],
   "source": [
    "import numpy as np"
   ]
  },
  {
   "cell_type": "code",
   "execution_count": 164,
   "metadata": {},
   "outputs": [],
   "source": [
    "pi=np.array([0.8,0.2])  #initial state\n",
    "A=np.array([[0.7,0.3],[0.2,0.8]])   #Transition probabilities\n",
    "Conditional_probability=np.array([[0.8,0.2],[0.3,0.7]])     #column: H,C. Row: 5,1\n",
    "observation_seq=np.array([5,5,5,1,1,1,1,5,5,5])  #Given sequence of fan speed\n",
    "#observation_seq=np.array([1,1,5])\n",
    "N=len(observation_seq)"
   ]
  },
  {
   "cell_type": "markdown",
   "metadata": {},
   "source": [
    "# Compute conditional probability (H=Hot, C=Cold)"
   ]
  },
  {
   "cell_type": "code",
   "execution_count": 165,
   "metadata": {},
   "outputs": [],
   "source": [
    "def chose_conditional(current_observation,current_state):\n",
    "    if (current_observation==5 and current_state=='H'):\n",
    "        P_Xnplus1byZ_nplus1=0.8\n",
    "    elif (current_observation==5 and current_state=='C'):\n",
    "        P_Xnplus1byZ_nplus1=0.3\n",
    "    elif (current_observation==1 and current_state=='H'):\n",
    "        P_Xnplus1byZ_nplus1=0.2\n",
    "    elif (current_observation==1 and current_state=='C'):\n",
    "        P_Xnplus1byZ_nplus1=0.7\n",
    "    return P_Xnplus1byZ_nplus1"
   ]
  },
  {
   "cell_type": "markdown",
   "metadata": {},
   "source": [
    "# Initialize w(Zn) for 1st time instant"
   ]
  },
  {
   "cell_type": "code",
   "execution_count": 166,
   "metadata": {},
   "outputs": [],
   "source": [
    "def omega_init(pi,observation_seq):\n",
    "    return (np.log(pi[0])+np.log(chose_conditional(observation_seq[0],'H')),\\\n",
    "            np.log(pi[1])+np.log(chose_conditional(observation_seq[0],'C')))\n"
   ]
  },
  {
   "cell_type": "markdown",
   "metadata": {},
   "source": [
    "# Viterbi Algorithm implementation"
   ]
  },
  {
   "cell_type": "code",
   "execution_count": 167,
   "metadata": {},
   "outputs": [],
   "source": [
    "omega_z=np.zeros((N,2))\n",
    "def omega(observation_seq,omega_z,pi,A,chose_conditional):\n",
    "    #define intial omega\n",
    "    omega_z[0,:]=omega_init(pi,observation_seq)\n",
    "    for i in range(1,N):\n",
    "        omega_z[i,:]=(np.log(chose_conditional(observation_seq[i],'H'))+\\\n",
    "        max((np.log(A[0][0])+omega_z[(i-1),0]),(np.log(A[1][0])+omega_z[(i-1),1])),\\\n",
    "        np.log(chose_conditional(observation_seq[i],'C'))+\\\n",
    "        max((np.log(A[0][1])+omega_z[(i-1),0]),(np.log(A[1][1])+omega_z[(i-1),1])))\n",
    "    return omega_z"
   ]
  },
  {
   "cell_type": "markdown",
   "metadata": {},
   "source": [
    "# Backtrack through trellis to find hidden variables"
   ]
  },
  {
   "cell_type": "code",
   "execution_count": 168,
   "metadata": {},
   "outputs": [],
   "source": [
    "def bactrack_trellis(omega_z):\n",
    "    hidden_var_opposite=[]\n",
    "    output=[]\n",
    "    for j in reversed(range(N)): \n",
    "        if omega_z[j,0]>omega_z[j,1]:\n",
    "            hidden_var_opposite.append('H')\n",
    "            #print('H ')\n",
    "        else:\n",
    "            hidden_var_opposite.append('C')\n",
    "            #print('C ') \n",
    "    for o in reversed(hidden_var_opposite):   #As backtracking will give Zn is reverse order, so we need to reverse the sequence \n",
    "        output.append(o)\n",
    "        #print(output)\n",
    "    return output"
   ]
  },
  {
   "cell_type": "code",
   "execution_count": 169,
   "metadata": {},
   "outputs": [
    {
     "data": {
      "text/plain": [
       "array([[-0.4462871 , -2.81341072],\n",
       "       [-1.0261056 , -2.85423271],\n",
       "       [-1.60592409, -3.43405121],\n",
       "       [-3.57203695, -3.16657184],\n",
       "       [-5.53814981, -3.74639034],\n",
       "       [-6.96526616, -4.32620883],\n",
       "       [-7.54508466, -4.90602733],\n",
       "       [-6.73860879, -6.33314368],\n",
       "       [-7.31842729, -7.76026004],\n",
       "       [-7.89824578, -9.18737639]])"
      ]
     },
     "execution_count": 169,
     "metadata": {},
     "output_type": "execute_result"
    }
   ],
   "source": [
    "omega_Znplus1=omega(observation_seq,omega_z,pi,A,chose_conditional)\n",
    "omega_Znplus1"
   ]
  },
  {
   "cell_type": "markdown",
   "metadata": {},
   "source": [
    "# Print the hidden variables"
   ]
  },
  {
   "cell_type": "code",
   "execution_count": 170,
   "metadata": {},
   "outputs": [
    {
     "name": "stdout",
     "output_type": "stream",
     "text": [
      "['H', 'H', 'H', 'C', 'C', 'C', 'C', 'C', 'H', 'H']\n"
     ]
    }
   ],
   "source": [
    "latent=bactrack_trellis(omega_Znplus1)   \n",
    "print(latent)"
   ]
  }
 ],
 "metadata": {
  "kernelspec": {
   "display_name": "Python 3",
   "language": "python",
   "name": "python3"
  },
  "language_info": {
   "codemirror_mode": {
    "name": "ipython",
    "version": 3
   },
   "file_extension": ".py",
   "mimetype": "text/x-python",
   "name": "python",
   "nbconvert_exporter": "python",
   "pygments_lexer": "ipython3",
   "version": "3.8.3"
  }
 },
 "nbformat": 4,
 "nbformat_minor": 4
}
